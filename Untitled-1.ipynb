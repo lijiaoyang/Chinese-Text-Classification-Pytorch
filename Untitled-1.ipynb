{
 "metadata": {
  "language_info": {
   "codemirror_mode": {
    "name": "ipython",
    "version": 3
   },
   "file_extension": ".py",
   "mimetype": "text/x-python",
   "name": "python",
   "nbconvert_exporter": "python",
   "pygments_lexer": "ipython3",
   "version": "3.7.6-final"
  },
  "orig_nbformat": 2,
  "kernelspec": {
   "name": "python3",
   "display_name": "Python 3.7.6 64-bit ('base': conda)",
   "metadata": {
    "interpreter": {
     "hash": "ce84debb8b5f4ba4c8f281e9d56ac55555b3ac8540444808953774feae545302"
    }
   }
  }
 },
 "nbformat": 4,
 "nbformat_minor": 2,
 "cells": [
  {
   "cell_type": "code",
   "execution_count": 14,
   "metadata": {},
   "outputs": [
    {
     "output_type": "execute_result",
     "data": {
      "text/plain": [
       "tensor([ 1.7008,  2.1118, -2.2375,  1.0665])"
      ]
     },
     "metadata": {},
     "execution_count": 14
    }
   ],
   "source": [
    "import torch.nn as nn\n",
    "import torch.nn.functional as F\n",
    "import torch\n",
    "\n",
    "w = nn.Parameter(torch.zeros(3,1))\n",
    "\n",
    "M = torch.randn(4, 5, 3)\n",
    "\n",
    "t = F.softmax(torch.matmul(M, w), dim=1)\n",
    "\n",
    "alpha = F.softmax(torch.matmul(M, w), dim=1).unsqueeze(-1)\n",
    "\n",
    "a = torch.sum(M, 1)\n",
    "a.mean(1)"
   ]
  },
  {
   "cell_type": "code",
   "execution_count": 8,
   "metadata": {},
   "outputs": [
    {
     "output_type": "execute_result",
     "data": {
      "text/plain": [
       "{'b': 1, 'a': 1}"
      ]
     },
     "metadata": {},
     "execution_count": 8
    }
   ],
   "source": [
    "dic = {'b':1}\n",
    "dic.update({'a':1})\n",
    "dic"
   ]
  }
 ]
}